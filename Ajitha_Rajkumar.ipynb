{
  "nbformat": 4,
  "nbformat_minor": 0,
  "metadata": {
    "colab": {
      "name": "Ajitha_Rajkumar.ipynb",
      "provenance": [],
      "collapsed_sections": []
    },
    "kernelspec": {
      "name": "python3",
      "display_name": "Python 3"
    }
  },
  "cells": [
    {
      "cell_type": "markdown",
      "metadata": {
        "id": "9rRh9UFK91b3"
      },
      "source": [
        "Here, I have imported some Libraries:"
      ]
    },
    {
      "cell_type": "code",
      "metadata": {
        "id": "rIGjskWi97oe"
      },
      "source": [
        "import pandas as pd\n",
        "import numpy as np\n"
      ],
      "execution_count": null,
      "outputs": []
    },
    {
      "cell_type": "code",
      "metadata": {
        "id": "FfLYb-hTDY-d"
      },
      "source": [
        "from sklearn.datasets import load_iris\n",
        "iris_dataset = load_iris()"
      ],
      "execution_count": null,
      "outputs": []
    },
    {
      "cell_type": "code",
      "metadata": {
        "colab": {
          "base_uri": "https://localhost:8080/"
        },
        "id": "p5fT35jrsMjk",
        "outputId": "50f7ab07-3de2-42c3-bd54-fb3b0563a60d"
      },
      "source": [
        "print(\"Keys of iris_dataset: \\n{}\".format(iris_dataset.keys()))"
      ],
      "execution_count": null,
      "outputs": [
        {
          "output_type": "stream",
          "text": [
            "Keys of iris_dataset: \n",
            "dict_keys(['data', 'target', 'target_names', 'DESCR', 'feature_names', 'filename'])\n"
          ],
          "name": "stdout"
        }
      ]
    },
    {
      "cell_type": "markdown",
      "metadata": {
        "id": "IrO3-3LstQKr"
      },
      "source": [
        "The value of the key DESCR is a short description of the dataset. Lets look at what it contains: "
      ]
    },
    {
      "cell_type": "code",
      "metadata": {
        "colab": {
          "base_uri": "https://localhost:8080/"
        },
        "id": "Lh5BOqu-t83D",
        "outputId": "736cd243-6d06-45d7-b846-18096d235629"
      },
      "source": [
        "print(iris_dataset['DESCR'][:193]+ \"\\n...\")"
      ],
      "execution_count": null,
      "outputs": [
        {
          "output_type": "stream",
          "text": [
            ".. _iris_dataset:\n",
            "\n",
            "Iris plants dataset\n",
            "--------------------\n",
            "\n",
            "**Data Set Characteristics:**\n",
            "\n",
            "    :Number of Instances: 150 (50 in each of three classes)\n",
            "    :Number of Attributes: 4 numeric, pre\n",
            "...\n"
          ],
          "name": "stdout"
        }
      ]
    },
    {
      "cell_type": "markdown",
      "metadata": {
        "id": "ZgH5T4tFu0oo"
      },
      "source": [
        "Ass we can see it contains some information about the dataset itself."
      ]
    },
    {
      "cell_type": "code",
      "metadata": {
        "colab": {
          "base_uri": "https://localhost:8080/"
        },
        "id": "wH_g2Q2XvAVu",
        "outputId": "ea28d93a-466a-4f78-ffbf-0b7758f534a3"
      },
      "source": [
        "print(\"Target names: {}\".format(iris_dataset['target_names']))"
      ],
      "execution_count": null,
      "outputs": [
        {
          "output_type": "stream",
          "text": [
            "Target names: ['setosa' 'versicolor' 'virginica']\n"
          ],
          "name": "stdout"
        }
      ]
    },
    {
      "cell_type": "markdown",
      "metadata": {
        "id": "FHFUBCYXxFQ-"
      },
      "source": [
        "Next in line is the feature_names \n",
        "The value of feature_names is a list of strings, giving the description of each feature it includes the 'sepal length','sepal width', 'petal length' and 'petal width' all in centimeters. "
      ]
    },
    {
      "cell_type": "code",
      "metadata": {
        "colab": {
          "base_uri": "https://localhost:8080/"
        },
        "id": "Nd-dNfhkxztr",
        "outputId": "2c0ef429-0ee4-4f36-c7a4-efdbc174add2"
      },
      "source": [
        "print(\"Feature names: \\n{}\".format(iris_dataset['feature_names']))"
      ],
      "execution_count": null,
      "outputs": [
        {
          "output_type": "stream",
          "text": [
            "Feature names: \n",
            "['sepal length (cm)', 'sepal width (cm)', 'petal length (cm)', 'petal width (cm)']\n"
          ],
          "name": "stdout"
        }
      ]
    },
    {
      "cell_type": "markdown",
      "metadata": {
        "id": "0ZPehCl3yoEs"
      },
      "source": [
        "The data that we are going to use is itself contained in the target and data foelds. The data contains numeric measurements of sepal length, sepal width,petal length and petal width in a numpy array:"
      ]
    },
    {
      "cell_type": "code",
      "metadata": {
        "colab": {
          "base_uri": "https://localhost:8080/"
        },
        "id": "oyZTyj6ozOtH",
        "outputId": "0da4660b-ed96-47af-9bae-df605e307dd8"
      },
      "source": [
        "print(\"Type of data: {}\".format(type(iris_dataset['data'])))"
      ],
      "execution_count": null,
      "outputs": [
        {
          "output_type": "stream",
          "text": [
            "Type of data: <class 'numpy.ndarray'>\n"
          ],
          "name": "stdout"
        }
      ]
    },
    {
      "cell_type": "markdown",
      "metadata": {
        "id": "js24VAzvz2n9"
      },
      "source": [
        "The rows in this data array correspond to the flowers, while the columns represent the four measurements that were taken for each flower:"
      ]
    },
    {
      "cell_type": "code",
      "metadata": {
        "colab": {
          "base_uri": "https://localhost:8080/"
        },
        "id": "Rc2hTllVz0ER",
        "outputId": "90159cf8-489c-4eca-dce1-c78bfd99831b"
      },
      "source": [
        "print(\"Shape of data: {}\".format(iris_dataset['data'].shape))"
      ],
      "execution_count": null,
      "outputs": [
        {
          "output_type": "stream",
          "text": [
            "Shape of data: (150, 4)\n"
          ],
          "name": "stdout"
        }
      ]
    },
    {
      "cell_type": "markdown",
      "metadata": {
        "id": "0BK2WnXA1D1V"
      },
      "source": [
        "We see that the array contains measurement for 150 different flowers.The indivual items are called samples/data points in machine learning and their properities are called features.So we have 150 data points and 4 features. The shape of the data array is the number of samples multiplied by the number of features"
      ]
    },
    {
      "cell_type": "code",
      "metadata": {
        "colab": {
          "base_uri": "https://localhost:8080/"
        },
        "id": "tl0KT8gg1C5j",
        "outputId": "1af640a5-9cc1-4146-8c98-278d933d5ebd"
      },
      "source": [
        "print(\"First five columns of data:\\n{}\".format(iris_dataset['data'][:5]))"
      ],
      "execution_count": null,
      "outputs": [
        {
          "output_type": "stream",
          "text": [
            "First five columns of data:\n",
            "[[5.1 3.5 1.4 0.2]\n",
            " [4.9 3.  1.4 0.2]\n",
            " [4.7 3.2 1.3 0.2]\n",
            " [4.6 3.1 1.5 0.2]\n",
            " [5.  3.6 1.4 0.2]]\n"
          ],
          "name": "stdout"
        }
      ]
    },
    {
      "cell_type": "markdown",
      "metadata": {
        "id": "FCZrnX1G3wL9"
      },
      "source": [
        "From this data,we can see that all of the first five flowers have a petal width of 0.2cm and that the first flower has the longest sepal, at 5.1 cm. We will be making this output in the form of a table."
      ]
    },
    {
      "cell_type": "code",
      "metadata": {
        "id": "rVQsdAAw3lCQ",
        "colab": {
          "base_uri": "https://localhost:8080/"
        },
        "outputId": "29c1bd71-a461-4743-da77-b987b82f70ae"
      },
      "source": [
        "print(\"Type of target: {}\".format(type(iris_dataset['target'])))"
      ],
      "execution_count": null,
      "outputs": [
        {
          "output_type": "stream",
          "text": [
            "Type of target: <class 'numpy.ndarray'>\n"
          ],
          "name": "stdout"
        }
      ]
    },
    {
      "cell_type": "markdown",
      "metadata": {
        "id": "jfzPzHtgEULB"
      },
      "source": [
        "Target ia a one dimensional array on seeing the shape we can see that it conatins one entry per flower. "
      ]
    },
    {
      "cell_type": "code",
      "metadata": {
        "colab": {
          "base_uri": "https://localhost:8080/"
        },
        "id": "MEEsqd2dFIKm",
        "outputId": "1a4454b1-b20a-45b0-a62c-9e2906ea3e18"
      },
      "source": [
        "print(\"Shape of Target: {}\".format(iris_dataset['target'].shape))"
      ],
      "execution_count": null,
      "outputs": [
        {
          "output_type": "stream",
          "text": [
            "Shape of Target: (150,)\n"
          ],
          "name": "stdout"
        }
      ]
    },
    {
      "cell_type": "markdown",
      "metadata": {
        "id": "fTFzSbMrFJ2c"
      },
      "source": [
        "On seeing the target key and exploring the values we can see that The species are encoded as integers from 0 to 2"
      ]
    },
    {
      "cell_type": "code",
      "metadata": {
        "colab": {
          "base_uri": "https://localhost:8080/"
        },
        "id": "qNlROOrvE10t",
        "outputId": "5dc8aaa1-3de8-490a-89b0-a96b6869e4f1"
      },
      "source": [
        "print(\"Target:\\n{}\".format(iris_dataset['target']))"
      ],
      "execution_count": null,
      "outputs": [
        {
          "output_type": "stream",
          "text": [
            "Target:\n",
            "[0 0 0 0 0 0 0 0 0 0 0 0 0 0 0 0 0 0 0 0 0 0 0 0 0 0 0 0 0 0 0 0 0 0 0 0 0\n",
            " 0 0 0 0 0 0 0 0 0 0 0 0 0 1 1 1 1 1 1 1 1 1 1 1 1 1 1 1 1 1 1 1 1 1 1 1 1\n",
            " 1 1 1 1 1 1 1 1 1 1 1 1 1 1 1 1 1 1 1 1 1 1 1 1 1 1 2 2 2 2 2 2 2 2 2 2 2\n",
            " 2 2 2 2 2 2 2 2 2 2 2 2 2 2 2 2 2 2 2 2 2 2 2 2 2 2 2 2 2 2 2 2 2 2 2 2 2\n",
            " 2 2]\n"
          ],
          "name": "stdout"
        }
      ]
    },
    {
      "cell_type": "markdown",
      "metadata": {
        "id": "9LNJMiSYGIKX"
      },
      "source": [
        "The meanings of the numbers are given by the iris['target_names'] array:0 means setosa, 1 means versicolor and 2 means virginica"
      ]
    },
    {
      "cell_type": "markdown",
      "metadata": {
        "id": "CHSZTxo2HsYs"
      },
      "source": [
        "Training and Testing data"
      ]
    },
    {
      "cell_type": "code",
      "metadata": {
        "id": "Yf9phbAXGHUe"
      },
      "source": [
        "from sklearn.model_selection import train_test_split \n",
        "X_train, X_test, y_train, y_test = train_test_split(\n",
        "    iris_dataset['data'],iris_dataset['target'],random_state=0\n",
        ")"
      ],
      "execution_count": null,
      "outputs": []
    },
    {
      "cell_type": "markdown",
      "metadata": {
        "id": "JHAVLf9rLDE3"
      },
      "source": [
        "The ouput of the train_test_split function is X_train,X_test,y_train,y_test which are all Numpy arrays.X_train contains 75% of the rows of thhe dataset and X_test contains the remaining 25%."
      ]
    },
    {
      "cell_type": "code",
      "metadata": {
        "colab": {
          "base_uri": "https://localhost:8080/"
        },
        "id": "SqzzFUsVJHgf",
        "outputId": "34104d17-07b4-4056-af05-cb75251eb509"
      },
      "source": [
        "print(\"X_train shape: {}\".format(X_train.shape))\n",
        "print(\"y_train shape: {}\".format(y_train.shape))\n",
        "print(\"X_test shape: {}\".format(X_train.shape))\n",
        "print(\"y_test shape: {}\".format(y_test.shape))"
      ],
      "execution_count": null,
      "outputs": [
        {
          "output_type": "stream",
          "text": [
            "X_train shape: (112, 4)\n",
            "y_train shape: (112,)\n",
            "X_test shape: (112, 4)\n",
            "y_test shape: (38,)\n"
          ],
          "name": "stdout"
        }
      ]
    },
    {
      "cell_type": "markdown",
      "metadata": {
        "id": "QWDi7aYZL0Ac"
      },
      "source": [
        "Inspecting the data:"
      ]
    },
    {
      "cell_type": "code",
      "metadata": {
        "id": "NP9_UwcZLt5w"
      },
      "source": [
        "from sklearn.neighbors import KNeighborsClassifier\n",
        "knn = KNeighborsClassifier(n_neighbors=1)"
      ],
      "execution_count": null,
      "outputs": []
    },
    {
      "cell_type": "markdown",
      "metadata": {
        "id": "PmTmismzNWQP"
      },
      "source": [
        "This is the KNN machine learning model. The most important parameter of Kneighbor sClassifier is the number of neighbors which we will set to 1 "
      ]
    },
    {
      "cell_type": "code",
      "metadata": {
        "colab": {
          "base_uri": "https://localhost:8080/"
        },
        "id": "EJX7lf9gOYE1",
        "outputId": "9fc20bb3-cc8a-49a2-a08b-0c6874ea4e5d"
      },
      "source": [
        "knn.fit(X_train,y_train)"
      ],
      "execution_count": null,
      "outputs": [
        {
          "output_type": "execute_result",
          "data": {
            "text/plain": [
              "KNeighborsClassifier(algorithm='auto', leaf_size=30, metric='minkowski',\n",
              "                     metric_params=None, n_jobs=None, n_neighbors=1, p=2,\n",
              "                     weights='uniform')"
            ]
          },
          "metadata": {
            "tags": []
          },
          "execution_count": 16
        }
      ]
    },
    {
      "cell_type": "markdown",
      "metadata": {
        "id": "drEN68xZPcE2"
      },
      "source": [
        "Making Predictions"
      ]
    },
    {
      "cell_type": "code",
      "metadata": {
        "colab": {
          "base_uri": "https://localhost:8080/"
        },
        "id": "BlTSovsGPuWr",
        "outputId": "de3aed39-4760-46f8-ca50-cab71494aac1"
      },
      "source": [
        "X_new = np.array([[5,2.9,1,0.2]])\n",
        "print(\"X_new.shape: {}\".format(X_new.shape))"
      ],
      "execution_count": null,
      "outputs": [
        {
          "output_type": "stream",
          "text": [
            "X_new.shape: (1, 4)\n"
          ],
          "name": "stdout"
        }
      ]
    },
    {
      "cell_type": "code",
      "metadata": {
        "colab": {
          "base_uri": "https://localhost:8080/"
        },
        "id": "rHERV7FZSXLk",
        "outputId": "63979996-bb92-42e2-b8c1-1070a8f0dd1e"
      },
      "source": [
        "prediction = knn.predict(X_new)\n",
        "\n",
        "print(\"Prediction: {}\".format(prediction))\n",
        "print(\"Predicted target name: {}\".format(\n",
        "    iris_dataset['target_names'][prediction]\n",
        "))\n"
      ],
      "execution_count": null,
      "outputs": [
        {
          "output_type": "stream",
          "text": [
            "Prediction: [0]\n",
            "Predicted target name: ['setosa']\n"
          ],
          "name": "stdout"
        }
      ]
    },
    {
      "cell_type": "markdown",
      "metadata": {
        "id": "v2vaQ2vBSGzB"
      },
      "source": [
        "Evaluating the model:"
      ]
    },
    {
      "cell_type": "code",
      "metadata": {
        "colab": {
          "base_uri": "https://localhost:8080/"
        },
        "id": "agXT0vkpTdMe",
        "outputId": "72e9d39f-3f44-4722-8129-9814b3e02f98"
      },
      "source": [
        "y_pred = knn.predict(X_test)\n",
        "print(\"Test set predictions:\\n {}\".format(y_pred))"
      ],
      "execution_count": null,
      "outputs": [
        {
          "output_type": "stream",
          "text": [
            "Test set predictions:\n",
            " [2 1 0 2 0 2 0 1 1 1 2 1 1 1 1 0 1 1 0 0 2 1 0 0 2 0 0 1 1 0 2 1 0 2 2 1 0\n",
            " 2]\n"
          ],
          "name": "stdout"
        }
      ]
    },
    {
      "cell_type": "code",
      "metadata": {
        "colab": {
          "base_uri": "https://localhost:8080/"
        },
        "id": "1jJvL6ElT7N5",
        "outputId": "9dfd1383-4832-413a-e43f-e12234b1255d"
      },
      "source": [
        "print(\"Test set score: {}\".format(np.mean(y_pred == y_test)))"
      ],
      "execution_count": null,
      "outputs": [
        {
          "output_type": "stream",
          "text": [
            "Test set score: 0.9736842105263158\n"
          ],
          "name": "stdout"
        }
      ]
    },
    {
      "cell_type": "markdown",
      "metadata": {
        "id": "aG0NeqfFUwW8"
      },
      "source": [
        "Here the accuracy of the Machine Learning  model is 97.36%"
      ]
    },
    {
      "cell_type": "markdown",
      "metadata": {
        "id": "efKGCiWKVDAy"
      },
      "source": [
        ""
      ]
    }
  ]
}